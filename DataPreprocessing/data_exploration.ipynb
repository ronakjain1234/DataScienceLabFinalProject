{
 "cells": [
  {
   "cell_type": "markdown",
   "metadata": {},
   "source": [
    "## Data Exploration\n",
    "Sarah Go"
   ]
  },
  {
   "cell_type": "markdown",
   "metadata": {},
   "source": [
    "## Import Libraries and Dataset"
   ]
  },
  {
   "cell_type": "code",
   "execution_count": 10,
   "metadata": {},
   "outputs": [],
   "source": [
    "import kagglehub\n",
    "import numpy as np\n",
    "import pandas as pd\n",
    "\n",
    "from tabulate import tabulate\n",
    "import matplotlib.pyplot as plt\n",
    "\n",
    "from collections import Counter\n",
    "import nltk\n",
    "from nltk.corpus import stopwords\n",
    "from sklearn.feature_extraction.text import CountVectorizer"
   ]
  },
  {
   "cell_type": "code",
   "execution_count": 5,
   "metadata": {},
   "outputs": [
    {
     "name": "stdout",
     "output_type": "stream",
     "text": [
      "Path to dataset files: C:\\Users\\radadmin\\.cache\\kagglehub\\datasets\\bhavikjikadara\\fake-news-detection\\versions\\1\n"
     ]
    }
   ],
   "source": [
    "# Download latest version\n",
    "path = kagglehub.dataset_download(\"bhavikjikadara/fake-news-detection\")\n",
    "\n",
    "print(\"Path to dataset files:\", path)\n",
    "\n",
    "# load datasets\n",
    "fake=pd.read_csv(path+'/fake.csv')\n",
    "true=pd.read_csv(path+'/true.csv')"
   ]
  },
  {
   "cell_type": "markdown",
   "metadata": {},
   "source": [
    "## Preliminary Inspection\n",
    "\n",
    "- All/most of the true data was likely sourced from Reuters"
   ]
  },
  {
   "cell_type": "code",
   "execution_count": 19,
   "metadata": {},
   "outputs": [
    {
     "data": {
      "text/html": [
       "<div>\n",
       "<style scoped>\n",
       "    .dataframe tbody tr th:only-of-type {\n",
       "        vertical-align: middle;\n",
       "    }\n",
       "\n",
       "    .dataframe tbody tr th {\n",
       "        vertical-align: top;\n",
       "    }\n",
       "\n",
       "    .dataframe thead th {\n",
       "        text-align: right;\n",
       "    }\n",
       "</style>\n",
       "<table border=\"1\" class=\"dataframe\">\n",
       "  <thead>\n",
       "    <tr style=\"text-align: right;\">\n",
       "      <th></th>\n",
       "      <th>title</th>\n",
       "      <th>text</th>\n",
       "      <th>subject</th>\n",
       "      <th>date</th>\n",
       "    </tr>\n",
       "  </thead>\n",
       "  <tbody>\n",
       "    <tr>\n",
       "      <th>0</th>\n",
       "      <td>As U.S. budget fight looms, Republicans flip t...</td>\n",
       "      <td>WASHINGTON (Reuters) - The head of a conservat...</td>\n",
       "      <td>politicsNews</td>\n",
       "      <td>December 31, 2017</td>\n",
       "    </tr>\n",
       "    <tr>\n",
       "      <th>1</th>\n",
       "      <td>U.S. military to accept transgender recruits o...</td>\n",
       "      <td>WASHINGTON (Reuters) - Transgender people will...</td>\n",
       "      <td>politicsNews</td>\n",
       "      <td>December 29, 2017</td>\n",
       "    </tr>\n",
       "    <tr>\n",
       "      <th>2</th>\n",
       "      <td>Senior U.S. Republican senator: 'Let Mr. Muell...</td>\n",
       "      <td>WASHINGTON (Reuters) - The special counsel inv...</td>\n",
       "      <td>politicsNews</td>\n",
       "      <td>December 31, 2017</td>\n",
       "    </tr>\n",
       "    <tr>\n",
       "      <th>3</th>\n",
       "      <td>FBI Russia probe helped by Australian diplomat...</td>\n",
       "      <td>WASHINGTON (Reuters) - Trump campaign adviser ...</td>\n",
       "      <td>politicsNews</td>\n",
       "      <td>December 30, 2017</td>\n",
       "    </tr>\n",
       "    <tr>\n",
       "      <th>4</th>\n",
       "      <td>Trump wants Postal Service to charge 'much mor...</td>\n",
       "      <td>SEATTLE/WASHINGTON (Reuters) - President Donal...</td>\n",
       "      <td>politicsNews</td>\n",
       "      <td>December 29, 2017</td>\n",
       "    </tr>\n",
       "  </tbody>\n",
       "</table>\n",
       "</div>"
      ],
      "text/plain": [
       "                                               title  \\\n",
       "0  As U.S. budget fight looms, Republicans flip t...   \n",
       "1  U.S. military to accept transgender recruits o...   \n",
       "2  Senior U.S. Republican senator: 'Let Mr. Muell...   \n",
       "3  FBI Russia probe helped by Australian diplomat...   \n",
       "4  Trump wants Postal Service to charge 'much mor...   \n",
       "\n",
       "                                                text       subject  \\\n",
       "0  WASHINGTON (Reuters) - The head of a conservat...  politicsNews   \n",
       "1  WASHINGTON (Reuters) - Transgender people will...  politicsNews   \n",
       "2  WASHINGTON (Reuters) - The special counsel inv...  politicsNews   \n",
       "3  WASHINGTON (Reuters) - Trump campaign adviser ...  politicsNews   \n",
       "4  SEATTLE/WASHINGTON (Reuters) - President Donal...  politicsNews   \n",
       "\n",
       "                 date  \n",
       "0  December 31, 2017   \n",
       "1  December 29, 2017   \n",
       "2  December 31, 2017   \n",
       "3  December 30, 2017   \n",
       "4  December 29, 2017   "
      ]
     },
     "execution_count": 19,
     "metadata": {},
     "output_type": "execute_result"
    }
   ],
   "source": [
    "true.head()"
   ]
  },
  {
   "cell_type": "code",
   "execution_count": 20,
   "metadata": {},
   "outputs": [
    {
     "data": {
      "text/html": [
       "<div>\n",
       "<style scoped>\n",
       "    .dataframe tbody tr th:only-of-type {\n",
       "        vertical-align: middle;\n",
       "    }\n",
       "\n",
       "    .dataframe tbody tr th {\n",
       "        vertical-align: top;\n",
       "    }\n",
       "\n",
       "    .dataframe thead th {\n",
       "        text-align: right;\n",
       "    }\n",
       "</style>\n",
       "<table border=\"1\" class=\"dataframe\">\n",
       "  <thead>\n",
       "    <tr style=\"text-align: right;\">\n",
       "      <th></th>\n",
       "      <th>title</th>\n",
       "      <th>text</th>\n",
       "      <th>subject</th>\n",
       "      <th>date</th>\n",
       "    </tr>\n",
       "  </thead>\n",
       "  <tbody>\n",
       "    <tr>\n",
       "      <th>21412</th>\n",
       "      <td>'Fully committed' NATO backs new U.S. approach...</td>\n",
       "      <td>BRUSSELS (Reuters) - NATO allies on Tuesday we...</td>\n",
       "      <td>worldnews</td>\n",
       "      <td>August 22, 2017</td>\n",
       "    </tr>\n",
       "    <tr>\n",
       "      <th>21413</th>\n",
       "      <td>LexisNexis withdrew two products from Chinese ...</td>\n",
       "      <td>LONDON (Reuters) - LexisNexis, a provider of l...</td>\n",
       "      <td>worldnews</td>\n",
       "      <td>August 22, 2017</td>\n",
       "    </tr>\n",
       "    <tr>\n",
       "      <th>21414</th>\n",
       "      <td>Minsk cultural hub becomes haven from authorities</td>\n",
       "      <td>MINSK (Reuters) - In the shadow of disused Sov...</td>\n",
       "      <td>worldnews</td>\n",
       "      <td>August 22, 2017</td>\n",
       "    </tr>\n",
       "    <tr>\n",
       "      <th>21415</th>\n",
       "      <td>Vatican upbeat on possibility of Pope Francis ...</td>\n",
       "      <td>MOSCOW (Reuters) - Vatican Secretary of State ...</td>\n",
       "      <td>worldnews</td>\n",
       "      <td>August 22, 2017</td>\n",
       "    </tr>\n",
       "    <tr>\n",
       "      <th>21416</th>\n",
       "      <td>Indonesia to buy $1.14 billion worth of Russia...</td>\n",
       "      <td>JAKARTA (Reuters) - Indonesia will buy 11 Sukh...</td>\n",
       "      <td>worldnews</td>\n",
       "      <td>August 22, 2017</td>\n",
       "    </tr>\n",
       "  </tbody>\n",
       "</table>\n",
       "</div>"
      ],
      "text/plain": [
       "                                                   title  \\\n",
       "21412  'Fully committed' NATO backs new U.S. approach...   \n",
       "21413  LexisNexis withdrew two products from Chinese ...   \n",
       "21414  Minsk cultural hub becomes haven from authorities   \n",
       "21415  Vatican upbeat on possibility of Pope Francis ...   \n",
       "21416  Indonesia to buy $1.14 billion worth of Russia...   \n",
       "\n",
       "                                                    text    subject  \\\n",
       "21412  BRUSSELS (Reuters) - NATO allies on Tuesday we...  worldnews   \n",
       "21413  LONDON (Reuters) - LexisNexis, a provider of l...  worldnews   \n",
       "21414  MINSK (Reuters) - In the shadow of disused Sov...  worldnews   \n",
       "21415  MOSCOW (Reuters) - Vatican Secretary of State ...  worldnews   \n",
       "21416  JAKARTA (Reuters) - Indonesia will buy 11 Sukh...  worldnews   \n",
       "\n",
       "                   date  \n",
       "21412  August 22, 2017   \n",
       "21413  August 22, 2017   \n",
       "21414  August 22, 2017   \n",
       "21415  August 22, 2017   \n",
       "21416  August 22, 2017   "
      ]
     },
     "execution_count": 20,
     "metadata": {},
     "output_type": "execute_result"
    }
   ],
   "source": [
    "true.tail()"
   ]
  },
  {
   "cell_type": "code",
   "execution_count": 21,
   "metadata": {},
   "outputs": [
    {
     "data": {
      "text/html": [
       "<div>\n",
       "<style scoped>\n",
       "    .dataframe tbody tr th:only-of-type {\n",
       "        vertical-align: middle;\n",
       "    }\n",
       "\n",
       "    .dataframe tbody tr th {\n",
       "        vertical-align: top;\n",
       "    }\n",
       "\n",
       "    .dataframe thead th {\n",
       "        text-align: right;\n",
       "    }\n",
       "</style>\n",
       "<table border=\"1\" class=\"dataframe\">\n",
       "  <thead>\n",
       "    <tr style=\"text-align: right;\">\n",
       "      <th></th>\n",
       "      <th>title</th>\n",
       "      <th>text</th>\n",
       "      <th>subject</th>\n",
       "      <th>date</th>\n",
       "    </tr>\n",
       "  </thead>\n",
       "  <tbody>\n",
       "    <tr>\n",
       "      <th>0</th>\n",
       "      <td>Donald Trump Sends Out Embarrassing New Year’...</td>\n",
       "      <td>Donald Trump just couldn t wish all Americans ...</td>\n",
       "      <td>News</td>\n",
       "      <td>December 31, 2017</td>\n",
       "    </tr>\n",
       "    <tr>\n",
       "      <th>1</th>\n",
       "      <td>Drunk Bragging Trump Staffer Started Russian ...</td>\n",
       "      <td>House Intelligence Committee Chairman Devin Nu...</td>\n",
       "      <td>News</td>\n",
       "      <td>December 31, 2017</td>\n",
       "    </tr>\n",
       "    <tr>\n",
       "      <th>2</th>\n",
       "      <td>Sheriff David Clarke Becomes An Internet Joke...</td>\n",
       "      <td>On Friday, it was revealed that former Milwauk...</td>\n",
       "      <td>News</td>\n",
       "      <td>December 30, 2017</td>\n",
       "    </tr>\n",
       "    <tr>\n",
       "      <th>3</th>\n",
       "      <td>Trump Is So Obsessed He Even Has Obama’s Name...</td>\n",
       "      <td>On Christmas day, Donald Trump announced that ...</td>\n",
       "      <td>News</td>\n",
       "      <td>December 29, 2017</td>\n",
       "    </tr>\n",
       "    <tr>\n",
       "      <th>4</th>\n",
       "      <td>Pope Francis Just Called Out Donald Trump Dur...</td>\n",
       "      <td>Pope Francis used his annual Christmas Day mes...</td>\n",
       "      <td>News</td>\n",
       "      <td>December 25, 2017</td>\n",
       "    </tr>\n",
       "  </tbody>\n",
       "</table>\n",
       "</div>"
      ],
      "text/plain": [
       "                                               title  \\\n",
       "0   Donald Trump Sends Out Embarrassing New Year’...   \n",
       "1   Drunk Bragging Trump Staffer Started Russian ...   \n",
       "2   Sheriff David Clarke Becomes An Internet Joke...   \n",
       "3   Trump Is So Obsessed He Even Has Obama’s Name...   \n",
       "4   Pope Francis Just Called Out Donald Trump Dur...   \n",
       "\n",
       "                                                text subject  \\\n",
       "0  Donald Trump just couldn t wish all Americans ...    News   \n",
       "1  House Intelligence Committee Chairman Devin Nu...    News   \n",
       "2  On Friday, it was revealed that former Milwauk...    News   \n",
       "3  On Christmas day, Donald Trump announced that ...    News   \n",
       "4  Pope Francis used his annual Christmas Day mes...    News   \n",
       "\n",
       "                date  \n",
       "0  December 31, 2017  \n",
       "1  December 31, 2017  \n",
       "2  December 30, 2017  \n",
       "3  December 29, 2017  \n",
       "4  December 25, 2017  "
      ]
     },
     "execution_count": 21,
     "metadata": {},
     "output_type": "execute_result"
    }
   ],
   "source": [
    "fake.head()"
   ]
  },
  {
   "cell_type": "code",
   "execution_count": 22,
   "metadata": {},
   "outputs": [
    {
     "data": {
      "text/html": [
       "<div>\n",
       "<style scoped>\n",
       "    .dataframe tbody tr th:only-of-type {\n",
       "        vertical-align: middle;\n",
       "    }\n",
       "\n",
       "    .dataframe tbody tr th {\n",
       "        vertical-align: top;\n",
       "    }\n",
       "\n",
       "    .dataframe thead th {\n",
       "        text-align: right;\n",
       "    }\n",
       "</style>\n",
       "<table border=\"1\" class=\"dataframe\">\n",
       "  <thead>\n",
       "    <tr style=\"text-align: right;\">\n",
       "      <th></th>\n",
       "      <th>title</th>\n",
       "      <th>text</th>\n",
       "      <th>subject</th>\n",
       "      <th>date</th>\n",
       "    </tr>\n",
       "  </thead>\n",
       "  <tbody>\n",
       "    <tr>\n",
       "      <th>23476</th>\n",
       "      <td>McPain: John McCain Furious That Iran Treated ...</td>\n",
       "      <td>21st Century Wire says As 21WIRE reported earl...</td>\n",
       "      <td>Middle-east</td>\n",
       "      <td>January 16, 2016</td>\n",
       "    </tr>\n",
       "    <tr>\n",
       "      <th>23477</th>\n",
       "      <td>JUSTICE? Yahoo Settles E-mail Privacy Class-ac...</td>\n",
       "      <td>21st Century Wire says It s a familiar theme. ...</td>\n",
       "      <td>Middle-east</td>\n",
       "      <td>January 16, 2016</td>\n",
       "    </tr>\n",
       "    <tr>\n",
       "      <th>23478</th>\n",
       "      <td>Sunnistan: US and Allied ‘Safe Zone’ Plan to T...</td>\n",
       "      <td>Patrick Henningsen  21st Century WireRemember ...</td>\n",
       "      <td>Middle-east</td>\n",
       "      <td>January 15, 2016</td>\n",
       "    </tr>\n",
       "    <tr>\n",
       "      <th>23479</th>\n",
       "      <td>How to Blow $700 Million: Al Jazeera America F...</td>\n",
       "      <td>21st Century Wire says Al Jazeera America will...</td>\n",
       "      <td>Middle-east</td>\n",
       "      <td>January 14, 2016</td>\n",
       "    </tr>\n",
       "    <tr>\n",
       "      <th>23480</th>\n",
       "      <td>10 U.S. Navy Sailors Held by Iranian Military ...</td>\n",
       "      <td>21st Century Wire says As 21WIRE predicted in ...</td>\n",
       "      <td>Middle-east</td>\n",
       "      <td>January 12, 2016</td>\n",
       "    </tr>\n",
       "  </tbody>\n",
       "</table>\n",
       "</div>"
      ],
      "text/plain": [
       "                                                   title  \\\n",
       "23476  McPain: John McCain Furious That Iran Treated ...   \n",
       "23477  JUSTICE? Yahoo Settles E-mail Privacy Class-ac...   \n",
       "23478  Sunnistan: US and Allied ‘Safe Zone’ Plan to T...   \n",
       "23479  How to Blow $700 Million: Al Jazeera America F...   \n",
       "23480  10 U.S. Navy Sailors Held by Iranian Military ...   \n",
       "\n",
       "                                                    text      subject  \\\n",
       "23476  21st Century Wire says As 21WIRE reported earl...  Middle-east   \n",
       "23477  21st Century Wire says It s a familiar theme. ...  Middle-east   \n",
       "23478  Patrick Henningsen  21st Century WireRemember ...  Middle-east   \n",
       "23479  21st Century Wire says Al Jazeera America will...  Middle-east   \n",
       "23480  21st Century Wire says As 21WIRE predicted in ...  Middle-east   \n",
       "\n",
       "                   date  \n",
       "23476  January 16, 2016  \n",
       "23477  January 16, 2016  \n",
       "23478  January 15, 2016  \n",
       "23479  January 14, 2016  \n",
       "23480  January 12, 2016  "
      ]
     },
     "execution_count": 22,
     "metadata": {},
     "output_type": "execute_result"
    }
   ],
   "source": [
    "fake.tail()"
   ]
  },
  {
   "cell_type": "markdown",
   "metadata": {},
   "source": [
    "## Dataset Balance, Features, Missing Values, Duplicates\n",
    "\n",
    "Summary of findings: \n",
    "- The dataset is well balanced, with 21417 true news articles, and 23481 fake news articles\n",
    "- There are four features: title, text, subject and date\n",
    "- There is no missing (NaN) data\n",
    "- There are no articles without titles\n",
    "- There are some articles without text\n",
    "- There is some duplicate data: 206 duplicated true news articles, and 3 duplicated fake news articles\n",
    "\n",
    "The articles without titles and the duplicate articles were dropped from the datasets."
   ]
  },
  {
   "cell_type": "code",
   "execution_count": 26,
   "metadata": {},
   "outputs": [
    {
     "name": "stdout",
     "output_type": "stream",
     "text": [
      "True news dataset shape: (21211, 4)\n",
      "Fake news dataset shape: (23478, 4)\n"
     ]
    },
    {
     "data": {
      "image/png": "[encoded data removed]",
      "text/plain": [
       "<Figure size 500x500 with 1 Axes>"
      ]
     },
     "metadata": {},
     "output_type": "display_data"
    },
    {
     "name": "stdout",
     "output_type": "stream",
     "text": [
      "Features in 'True' Dataset:\n",
      " ['title', 'text', 'subject', 'date'] \n",
      "\n",
      "Features in 'Fake' Dataset:\n",
      " ['title', 'text', 'subject', 'date'] \n",
      "\n"
     ]
    }
   ],
   "source": [
    "# Print shape\n",
    "print(\"True news dataset shape:\",true.shape)\n",
    "print(\"Fake news dataset shape:\",fake.shape)\n",
    "\n",
    "# Graph pie chart displaying ratio of true and fake news\n",
    "plt.figure(figsize=(5,5))\n",
    "plt.title('Ratio of True and Fake News')\n",
    "plt.axis('equal')\n",
    "plt.pie([true.shape[0],fake.shape[0]],labels=['True','Fake'],autopct='%1.1f%%')\n",
    "plt.legend()\n",
    "plt.show()\n",
    "\n",
    "# Print feature names (column names) for both datasets\n",
    "print(\"Features in 'True' Dataset:\\n\", true.columns.tolist(), \"\\n\")\n",
    "print(\"Features in 'Fake' Dataset:\\n\", fake.columns.tolist(), \"\\n\")"
   ]
  },
  {
   "cell_type": "code",
   "execution_count": 33,
   "metadata": {},
   "outputs": [
    {
     "name": "stdout",
     "output_type": "stream",
     "text": [
      "{'Blank Text Entries': 1, 'Blank Title Entries': 0, 'Missing Entries (NaN)': 0}\n"
     ]
    }
   ],
   "source": [
    "# Summary of blank and missing entries in true data\n",
    "summary_true = {\n",
    "    \"Blank Text Entries\": (true['text'].str.strip() == '').sum(),\n",
    "    \"Blank Title Entries\": (true['title'].str.strip() == '').sum(),\n",
    "    \"Missing Entries (NaN)\": true.isna().sum().sum(),\n",
    "}\n",
    "\n",
    "print(summary_true)"
   ]
  },
  {
   "cell_type": "code",
   "execution_count": 34,
   "metadata": {},
   "outputs": [
    {
     "name": "stdout",
     "output_type": "stream",
     "text": [
      "{'Blank Text Entries': 630, 'Blank Title Entries': 0, 'Missing Entries (NaN)': 0}\n"
     ]
    }
   ],
   "source": [
    "# Summary of blank and missing entries in fake data\n",
    "summary_fake = {\n",
    "    \"Blank Text Entries\": (fake['text'].str.strip() == '').sum(),\n",
    "    \"Blank Title Entries\": (fake['title'].str.strip() == '').sum(),\n",
    "    \"Missing Entries (NaN)\": fake.isna().sum().sum(),\n",
    "}\n",
    "\n",
    "print(summary_fake)"
   ]
  },
  {
   "cell_type": "code",
   "execution_count": 24,
   "metadata": {},
   "outputs": [
    {
     "name": "stdout",
     "output_type": "stream",
     "text": [
      "Number of Duplicates in 'True' Dataset: 0\n",
      "Number of Duplicates in 'Fake' Dataset: 0\n"
     ]
    }
   ],
   "source": [
    "# Identify duplicates for both datasets\n",
    "true_duplicates = true.duplicated().sum()\n",
    "fake_duplicates = fake.duplicated().sum()\n",
    "\n",
    "print(\"Number of Duplicates in 'True' Dataset:\", true_duplicates)\n",
    "print(\"Number of Duplicates in 'Fake' Dataset:\", fake_duplicates)"
   ]
  },
  {
   "cell_type": "code",
   "execution_count": 36,
   "metadata": {},
   "outputs": [
    {
     "name": "stdout",
     "output_type": "stream",
     "text": [
      "True news dataset shape: (21211, 4)\n",
      "Fake news dataset shape: (23478, 4)\n"
     ]
    }
   ],
   "source": [
    "# Drop duplicates\n",
    "true = true.drop_duplicates()\n",
    "fake = fake.drop_duplicates()\n",
    "\n",
    "# Drop articles without text\n",
    "indices = true[(true['text'].str.strip() == '')].index\n",
    "true_cleaned = true.drop(indices)\n",
    "\n",
    "indices = fake[(fake['text'].str.strip() == '')].index\n",
    "fake_cleaned = fake.drop(indices)\n",
    "\n",
    "# Print shape\n",
    "print(\"True news dataset shape:\",true.shape)\n",
    "print(\"Fake news dataset shape:\",fake.shape)"
   ]
  },
  {
   "cell_type": "markdown",
   "metadata": {},
   "source": [
    "## Word Frequency Analysis\n",
    "\n",
    "After dropping duplicate articles, the top ten most frequent words, after removing the most common stopwords, were identified for both true and fake news. Also, the top ten most divergent word frequencies between true and fake news were identified. \n",
    "\n",
    "\n",
    "Top 10 Fake Words:\n",
    "['trump', 'said', 'president', 'people', 'just', 'clinton', 'obama', 'like', 'donald', 'news']\n",
    "\n",
    "Top 10 True Words:\n",
    "['said', 'trump', 'reuters', 'president', 'state', 'government', 'new', 'house', 'states', 'republican']\n",
    "\n",
    "Top 10 Divergent Words:\n",
    "['said', 'reuters', 'government', 'minister', 'china', 'united', 'state', 'washington', 'north', 'republican']\n"
   ]
  },
  {
   "cell_type": "code",
   "execution_count": null,
   "metadata": {},
   "outputs": [],
   "source": [
    "# Download NLTK stopwords\n",
    "nltk.download('stopwords')\n",
    "\n",
    "# Define stopwords\n",
    "stopwords = set(stopwords.words('english'))\n",
    "\n",
    "true_text = ' '.join(true['text'].astype(str))\n",
    "fake_text = ' '.join(fake['text'].astype(str))\n",
    "all_text = [true_text, fake_text]\n",
    "\n",
    "# Initialize CountVectorizer with stopword removal\n",
    "vectorizer = CountVectorizer(stop_words='english')\n",
    "\n",
    "# Fit and transform the data\n",
    "true_counts = vectorizer.fit_transform([true_text])\n",
    "fake_counts = vectorizer.fit_transform([fake_text])\n",
    "\n",
    "# Fit on all text and transform each text separately\n",
    "vectorizer.fit(all_text)\n",
    "true_counts = vectorizer.transform([true_text])\n",
    "fake_counts = vectorizer.transform([fake_text])\n",
    "\n",
    "# Convert to DataFrames\n",
    "true_word_freq = pd.DataFrame(true_counts.toarray(), columns=vectorizer.get_feature_names_out()).T\n",
    "fake_word_freq = pd.DataFrame(fake_counts.toarray(), columns=vectorizer.get_feature_names_out()).T\n",
    "\n",
    "# Add column names for clarity\n",
    "true_word_freq.columns = ['Frequency']\n",
    "fake_word_freq.columns = ['Frequency']\n",
    "\n",
    "# Get top 10 most frequent words for true and fake news\n",
    "top_true = true_word_freq.sort_values(by='Frequency', ascending=False).head(10)\n",
    "top_fake = fake_word_freq.sort_values(by='Frequency', ascending=False).head(10)"
   ]
  },
  {
   "cell_type": "code",
   "execution_count": 13,
   "metadata": {},
   "outputs": [
    {
     "name": "stdout",
     "output_type": "stream",
     "text": [
      "Top 10 Most Frequent Words in True News:\n",
      "+----+------------+-------------+\n",
      "|    | Word       |   Frequency |\n",
      "+====+============+=============+\n",
      "|  0 | said       |       97867 |\n",
      "+----+------------+-------------+\n",
      "|  1 | trump      |       54098 |\n",
      "+----+------------+-------------+\n",
      "|  2 | reuters    |       28681 |\n",
      "+----+------------+-------------+\n",
      "|  3 | president  |       27879 |\n",
      "+----+------------+-------------+\n",
      "|  4 | state      |       20808 |\n",
      "+----+------------+-------------+\n",
      "|  5 | government |       18552 |\n",
      "+----+------------+-------------+\n",
      "|  6 | new        |       16758 |\n",
      "+----+------------+-------------+\n",
      "|  7 | house      |       16492 |\n",
      "+----+------------+-------------+\n",
      "|  8 | states     |       16422 |\n",
      "+----+------------+-------------+\n",
      "|  9 | republican |       16149 |\n",
      "+----+------------+-------------+\n"
     ]
    }
   ],
   "source": [
    "# Display top 10 most frequent words for true news\n",
    "print(\"Top 10 Most Frequent Words in True News:\")\n",
    "print(tabulate(top_true.reset_index(), headers=['Word', 'Frequency'], tablefmt='grid'))"
   ]
  },
  {
   "cell_type": "code",
   "execution_count": 14,
   "metadata": {},
   "outputs": [
    {
     "name": "stdout",
     "output_type": "stream",
     "text": [
      "\n",
      "Top 10 Most Frequent Words in Fake News:\n",
      "+----+-----------+-------------+\n",
      "|    | Word      |   Frequency |\n",
      "+====+===========+=============+\n",
      "|  0 | trump     |       79300 |\n",
      "+----+-----------+-------------+\n",
      "|  1 | said      |       33762 |\n",
      "+----+-----------+-------------+\n",
      "|  2 | president |       27714 |\n",
      "+----+-----------+-------------+\n",
      "|  3 | people    |       26570 |\n",
      "+----+-----------+-------------+\n",
      "|  4 | just      |       20508 |\n",
      "+----+-----------+-------------+\n",
      "|  5 | clinton   |       19168 |\n",
      "+----+-----------+-------------+\n",
      "|  6 | obama     |       18797 |\n",
      "+----+-----------+-------------+\n",
      "|  7 | like      |       18096 |\n",
      "+----+-----------+-------------+\n",
      "|  8 | donald    |       17671 |\n",
      "+----+-----------+-------------+\n",
      "|  9 | news      |       14620 |\n",
      "+----+-----------+-------------+\n"
     ]
    }
   ],
   "source": [
    "# Display top 10 most frequent words for fake news\n",
    "print(\"\\nTop 10 Most Frequent Words in Fake News:\")\n",
    "print(tabulate(top_fake.reset_index(), headers=['Word', 'Frequency'], tablefmt='grid'))"
   ]
  },
  {
   "cell_type": "markdown",
   "metadata": {},
   "source": [
    "Compare frequencies of words between true and fake news:"
   ]
  },
  {
   "cell_type": "code",
   "execution_count": 12,
   "metadata": {},
   "outputs": [
    {
     "name": "stdout",
     "output_type": "stream",
     "text": [
      "Top 10 Most Divergent Words:\n",
      "+----+------------+------------------+------------------+--------------+\n",
      "|    | Word       |   True_Frequency |   Fake_Frequency |   Difference |\n",
      "+====+============+==================+==================+==============+\n",
      "|  0 | said       |            97867 |            33762 |        64105 |\n",
      "+----+------------+------------------+------------------+--------------+\n",
      "|  1 | reuters    |            28681 |              449 |        28232 |\n",
      "+----+------------+------------------+------------------+--------------+\n",
      "|  2 | government |            18552 |             9201 |         9351 |\n",
      "+----+------------+------------------+------------------+--------------+\n",
      "|  3 | minister   |             8549 |              984 |         7565 |\n",
      "+----+------------+------------------+------------------+--------------+\n",
      "|  4 | china      |             8719 |             1254 |         7465 |\n",
      "+----+------------+------------------+------------------+--------------+\n",
      "|  5 | united     |            15368 |             8010 |         7358 |\n",
      "+----+------------+------------------+------------------+--------------+\n",
      "|  6 | state      |            20808 |            13463 |         7345 |\n",
      "+----+------------+------------------+------------------+--------------+\n",
      "|  7 | washington |            12889 |             5737 |         7152 |\n",
      "+----+------------+------------------+------------------+--------------+\n",
      "|  8 | north      |             9707 |             2671 |         7036 |\n",
      "+----+------------+------------------+------------------+--------------+\n",
      "|  9 | republican |            16149 |             9325 |         6824 |\n",
      "+----+------------+------------------+------------------+--------------+\n"
     ]
    }
   ],
   "source": [
    "# Combine and compare frequencies\n",
    "comparison = pd.concat([true_word_freq, fake_word_freq], axis=1, keys=['True', 'Fake']).fillna(0)\n",
    "comparison.columns = ['True_Frequency', 'Fake_Frequency']\n",
    "comparison['Difference'] = comparison['True_Frequency'] - comparison['Fake_Frequency']\n",
    "\n",
    "# Get top 10 most divergent words\n",
    "top_divergent = comparison.sort_values(by='Difference', ascending=False).head(10)\n",
    "\n",
    "# Display results with tabulate\n",
    "print(\"Top 10 Most Divergent Words:\")\n",
    "print(tabulate(top_divergent.reset_index(), headers=['Word', 'True_Frequency', 'Fake_Frequency', 'Difference'], tablefmt='grid'))"
   ]
  },
  {
   "cell_type": "code",
   "execution_count": 17,
   "metadata": {},
   "outputs": [
    {
     "name": "stdout",
     "output_type": "stream",
     "text": [
      "\n",
      "Top 10 Fake Words:\n",
      "['trump', 'said', 'president', 'people', 'just', 'clinton', 'obama', 'like', 'donald', 'news']\n",
      "\n",
      "Top 10 True Words:\n",
      "['said', 'trump', 'reuters', 'president', 'state', 'government', 'new', 'house', 'states', 'republican']\n",
      "\n",
      "Top 10 Divergent Words:\n",
      "['said', 'reuters', 'government', 'minister', 'china', 'united', 'state', 'washington', 'north', 'republican']\n"
     ]
    }
   ],
   "source": [
    "# Print list of top ten fake words\n",
    "print(\"\\nTop 10 Fake Words:\")\n",
    "print(top_fake.index.tolist())\n",
    "\n",
    "# Print list of top ten true words\n",
    "print(\"\\nTop 10 True Words:\")\n",
    "print(top_true.index.tolist())\n",
    "\n",
    "# Print list of top ten words\n",
    "print(\"\\nTop 10 Divergent Words:\")\n",
    "print(top_divergent.index.tolist())"
   ]
  }
 ],
 "metadata": {
  "kernelspec": {
   "display_name": "Python 3",
   "language": "python",
   "name": "python3"
  },
  "language_info": {
   "codemirror_mode": {
    "name": "ipython",
    "version": 3
   },
   "file_extension": ".py",
   "mimetype": "text/x-python",
   "name": "python",
   "nbconvert_exporter": "python",
   "pygments_lexer": "ipython3",
   "version": "3.11.9"
  }
 },
 "nbformat": 4,
 "nbformat_minor": 2
}
