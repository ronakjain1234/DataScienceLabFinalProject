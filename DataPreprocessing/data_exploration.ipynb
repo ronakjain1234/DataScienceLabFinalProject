{
 "cells": [
  {
   "cell_type": "markdown",
   "metadata": {},
   "source": [
    "## Data Exploration\n",
    "Sarah Go"
   ]
  },
  {
   "cell_type": "markdown",
   "metadata": {},
   "source": [
    "## Import Libraries and Dataset"
   ]
  },
  {
   "cell_type": "code",
   "execution_count": 23,
   "metadata": {},
   "outputs": [],
   "source": [
    "import kagglehub\n",
    "import numpy as np\n",
    "import pandas as pd\n",
    "\n",
    "from tabulate import tabulate\n",
    "import matplotlib.pyplot as plt"
   ]
  },
  {
   "cell_type": "code",
   "execution_count": null,
   "metadata": {},
   "outputs": [
    {
     "name": "stdout",
     "output_type": "stream",
     "text": [
      "Path to dataset files: C:\\Users\\radadmin\\.cache\\kagglehub\\datasets\\bhavikjikadara\\fake-news-detection\\versions\\1\n"
     ]
    }
   ],
   "source": [
    "# Download latest version\n",
    "path = kagglehub.dataset_download(\"bhavikjikadara/fake-news-detection\")\n",
    "\n",
    "print(\"Path to dataset files:\", path)\n",
    "\n",
    "# load datasets\n",
    "fake=pd.read_csv(path+'/fake.csv')\n",
    "true=pd.read_csv(path+'/true.csv')"
   ]
  },
  {
   "cell_type": "markdown",
   "metadata": {},
   "source": [
    "## Dataset Balance, Features, Missing Values, Duplicates\n",
    "\n",
    "Summary of findings: \n",
    "- The dataset is well balanced, with 21417 true news articles, and 23481 fake news articles\n",
    "- There are four features: title, text, subject and date\n",
    "- There is no missing data\n",
    "- There is some duplicate data: 206 duplicated true news articles, and 3 duplicated fake news articles"
   ]
  },
  {
   "cell_type": "code",
   "execution_count": 24,
   "metadata": {},
   "outputs": [
    {
     "name": "stdout",
     "output_type": "stream",
     "text": [
      "True news dataset shape: (21417, 4)\n",
      "Fake news dataset shape: (23481, 4)\n"
     ]
    },
    {
     "data": {
      "image/png": "[encoded data removed]",
      "text/plain": [
       "<Figure size 500x500 with 1 Axes>"
      ]
     },
     "metadata": {},
     "output_type": "display_data"
    },
    {
     "name": "stdout",
     "output_type": "stream",
     "text": [
      "Features in 'True' Dataset:\n",
      " ['title', 'text', 'subject', 'date'] \n",
      "\n",
      "Features in 'Fake' Dataset:\n",
      " ['title', 'text', 'subject', 'date'] \n",
      "\n",
      "\n",
      "Missing Values in Features of 'True' and 'Fake' Datasets:\n",
      "╒═════════╤════════════════╤════════════════╕\n",
      "│         │   True Dataset │   Fake Dataset │\n",
      "╞═════════╪════════════════╪════════════════╡\n",
      "│ title   │              0 │              0 │\n",
      "├─────────┼────────────────┼────────────────┤\n",
      "│ text    │              0 │              0 │\n",
      "├─────────┼────────────────┼────────────────┤\n",
      "│ subject │              0 │              0 │\n",
      "├─────────┼────────────────┼────────────────┤\n",
      "│ date    │              0 │              0 │\n",
      "╘═════════╧════════════════╧════════════════╛\n"
     ]
    }
   ],
   "source": [
    "# Print shape\n",
    "print(\"True news dataset shape:\",true.shape)\n",
    "print(\"Fake news dataset shape:\",fake.shape)\n",
    "\n",
    "# Graph pie chart displaying ratio of true and fake news\n",
    "plt.figure(figsize=(5,5))\n",
    "plt.title('Ratio of True and Fake News')\n",
    "plt.axis('equal')\n",
    "plt.pie([true.shape[0],fake.shape[0]],labels=['True','Fake'],autopct='%1.1f%%')\n",
    "plt.legend()\n",
    "plt.show()\n",
    "\n",
    "# Print feature names (column names) for both datasets\n",
    "print(\"Features in 'True' Dataset:\\n\", true.columns.tolist(), \"\\n\")\n",
    "print(\"Features in 'Fake' Dataset:\\n\", fake.columns.tolist(), \"\\n\")\n",
    "\n",
    "# Check for missing values\n",
    "true_missing = true.isnull().sum()\n",
    "fake_missing = fake.isnull().sum()\n",
    "\n",
    "missing_values = pd.DataFrame({\n",
    "    'True Dataset': true_missing,\n",
    "    'Fake Dataset': fake_missing\n",
    "})\n",
    "\n",
    "missing_values = missing_values.sort_values(by='True Dataset', ascending=False)\n",
    "\n",
    "print(\"\\nMissing Values in Features of 'True' and 'Fake' Datasets:\")\n",
    "print(tabulate(missing_values, headers='keys', tablefmt='fancy_grid', showindex=True))\n"
   ]
  },
  {
   "cell_type": "code",
   "execution_count": 25,
   "metadata": {},
   "outputs": [
    {
     "name": "stdout",
     "output_type": "stream",
     "text": [
      "Number of Duplicates in 'True' Dataset: 206\n",
      "Number of Duplicates in 'Fake' Dataset: 3\n"
     ]
    }
   ],
   "source": [
    "# Identify duplicates for both datasets\n",
    "true_duplicates = true.duplicated().sum()\n",
    "fake_duplicates = fake.duplicated().sum()\n",
    "\n",
    "print(\"Number of Duplicates in 'True' Dataset:\", true_duplicates)\n",
    "print(\"Number of Duplicates in 'Fake' Dataset:\", fake_duplicates)"
   ]
  }
 ],
 "metadata": {
  "kernelspec": {
   "display_name": "Python 3",
   "language": "python",
   "name": "python3"
  },
  "language_info": {
   "codemirror_mode": {
    "name": "ipython",
    "version": 3
   },
   "file_extension": ".py",
   "mimetype": "text/x-python",
   "name": "python",
   "nbconvert_exporter": "python",
   "pygments_lexer": "ipython3",
   "version": "3.11.9"
  }
 },
 "nbformat": 4,
 "nbformat_minor": 2
}
